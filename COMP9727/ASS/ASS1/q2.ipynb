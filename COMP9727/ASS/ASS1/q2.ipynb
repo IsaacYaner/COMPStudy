{
 "cells": [
  {
   "cell_type": "code",
   "execution_count": 1,
   "metadata": {},
   "outputs": [],
   "source": [
    "import numpy as np\n",
    "import pandas as pd\n",
    "import torch \n",
    "\n",
    "# Data preparation\n",
    "def read_data():\n",
    "    r_cols = ['user_id', 'movie_id', 'rating', 'timestamp']\n",
    "    df = pd.read_csv(\"q2.txt\", sep=\"\\t\",names=r_cols,encoding=\"latin-1\")\n",
    "\n",
    "    # Data cleaning\n",
    "    df = df.drop('timestamp', axis=1)\n",
    "    return df\n",
    "def get_data(split = 0.8):\n",
    "    df = read_data()    \n",
    "    train = df.head(int(split*df.__len__()))\n",
    "    test = df.tail(int((1-split)*df.__len__()))\n",
    "    return train, test\n",
    "\n",
    "def get_matrix():\n",
    "    rating_matrix = df.pivot_table(values='rating', index='user_id', columns='movie_id')\n",
    "    rating_matrix = rating_matrix.fillna(0)\n",
    "    R = rating_matrix\n",
    "    return R\n",
    "\n",
    "\n",
    "def prediction(user, item):\n",
    "    return np.dot(Q[item-1], P.T[user-1])\n",
    "\n",
    "def SE(y, y_bar):\n",
    "    n = len(y) #finding total number of items in list\n",
    "    summation = 0\n",
    "    for i in range (0,n):  \n",
    "        difference = y[i] - y_bar[i]  \n",
    "        squared_difference = difference**2  \n",
    "        summation = summation + squared_difference  \n",
    "    SE = summation  \n",
    "    return SE\n",
    "\n",
    "def l2Norm(x):\n",
    "    return np.sqrt(np.sum(np.square(x), axis=0))\n",
    "\n",
    "def E(train):\n",
    "    predictions = [prediction(d[1]['user_id'], d[1]['movie_id']) for d in train.T.iteritems()]\n",
    "    cost = SE(predictions, train['rating'])\n",
    "    normP = sum([l2Norm(u)**2 for u in P])\n",
    "    normQ = sum([l2Norm(i)**2 for i in Q])\n",
    "    normFactor = lam * (normP + normQ)\n",
    "    cost += normFactor\n",
    "    return cost\n"
   ]
  },
  {
   "cell_type": "code",
   "execution_count": 2,
   "metadata": {},
   "outputs": [],
   "source": [
    "k = 20\n",
    "lam = 0.1\n",
    "eta = 0.1\n",
    "iterations = 40\n",
    "split = 1.0"
   ]
  },
  {
   "cell_type": "code",
   "execution_count": 3,
   "metadata": {},
   "outputs": [],
   "source": [
    "df = read_data()\n",
    "m = max(df['movie_id']) # Number of items\n",
    "n = max(df['user_id'])  # Number of users\n",
    "Q = np.random.uniform(low=0.1, high=0.9, size=(m,k)) # Item\n",
    "P = np.random.uniform(low=0.1, high=0.9, size=(k,n)) # User\n",
    "R = get_matrix()"
   ]
  },
  {
   "cell_type": "code",
   "execution_count": 4,
   "metadata": {},
   "outputs": [],
   "source": [
    "train, test = get_data(split)"
   ]
  },
  {
   "cell_type": "code",
   "execution_count": 37,
   "metadata": {},
   "outputs": [
    {
     "name": "stdout",
     "output_type": "stream",
     "text": [
      "1682\n"
     ]
    }
   ],
   "source": [
    "# E(train)\n",
    "\n",
    "def single_gradient(user, item, user_tar, item_tar):\n",
    "    if not ((user_tar is None) ^ (item_tar is None)):\n",
    "        return \"Exactly one arg is needed\"\n",
    "    gradient = 0\n",
    "    pu = P.T[user-1]\n",
    "    qi = Q[item-1]\n",
    "    pred = prediction(user, item)\n",
    "    real = 0\n",
    "    try:\n",
    "        real = R[user][item]\n",
    "    except:\n",
    "        real = 0\n",
    "    if user_tar is not None:\n",
    "        elem = qi[user_tar]\n",
    "    else:\n",
    "        elem = pu[item_tar]\n",
    "    gradient = 2*(real - pred) * elem\n",
    "    return gradient\n",
    "\n",
    "def user_gradient(user, feature):\n",
    "    result = 0\n",
    "    for item in range(m):\n",
    "        result += single_gradient(user, item, feature, None)\n",
    "    return result/m\n",
    "\n",
    "def item_gradient(item, feature):\n",
    "    result = 0\n",
    "    for user in range(n):\n",
    "        result += single_gradient(user, item, None, feature)\n",
    "    return result/n\n",
    "\n",
    "def update_user(eta=eta):\n",
    "    for i in range(n):\n",
    "        for j in range(k):\n",
    "            P[j][i] += eta * user_gradient(i, j)\n",
    "        if i%20 == 0:\n",
    "            print(i/n)\n",
    "\n",
    "def update_item(eta=eta):\n",
    "    for i in range(m):\n",
    "        for j in range(k):\n",
    "            Q[i][j] += eta * item_gradient(i, j)\n",
    "        if i%20 == 0:\n",
    "            print(i/m)\n",
    "\n",
    "\n",
    "def learn():\n",
    "    for i in range(iterations):\n",
    "        print(i)\n",
    "        update_user()\n",
    "        update_item()\n",
    "        print(SE(train))\n",
    "\n",
    "# learn()\n",
    "\n",
    "def in_matrix(user, item, matrix):\n",
    "    if user+1 not in matrix:\n",
    "        return False\n",
    "    if item+1 not in matrix[user+1]:\n",
    "        return False\n",
    "    return True\n",
    "\n",
    "result = []\n",
    "df = read_data()\n",
    "items = max(df['movie_id']) # Number of items\n",
    "users = max(df['user_id'])  # Number of users\n",
    "matrix = get_matrix()\n",
    "print(m)\n",
    "for u in range(users):    # items\n",
    "    reviews = []\n",
    "    for i in range(items):# users\n",
    "        if not in_matrix(u, i, matrix):\n",
    "            reviews.append(False)\n",
    "            continue\n",
    "        if matrix[u+1][i+1] == 0:\n",
    "            reviews.append(False)\n",
    "            continue\n",
    "        reviews.append(True)\n",
    "    result.append(reviews)\n",
    "# print(result)\n",
    "\n",
    "# print(854 in R.rows)\n",
    "# print(R.index)\n",
    "# sum = 0\n",
    "# for i in range(items):\n",
    "    # for j in range(users):\n",
    "        # if not in_matrix(j, i, matrix):\n",
    "            # continue\n",
    "        # sum = R[j+1][i+1]\n",
    "# learn()\n",
    "# for item in range(m):\n",
    "    # data = single_gradient(1, item, 2, None)\n",
    "# data = single_gradient(1, 1660, 2, None)\n",
    "# print(data)\n",
    "# learn()"
   ]
  },
  {
   "cell_type": "code",
   "execution_count": 39,
   "metadata": {},
   "outputs": [
    {
     "name": "stdout",
     "output_type": "stream",
     "text": [
      "943\n",
      "943\n"
     ]
    }
   ],
   "source": [
    "print(len(result))"
   ]
  }
 ],
 "metadata": {
  "kernelspec": {
   "display_name": "Python 3.8.8 ('base')",
   "language": "python",
   "name": "python3"
  },
  "language_info": {
   "codemirror_mode": {
    "name": "ipython",
    "version": 3
   },
   "file_extension": ".py",
   "mimetype": "text/x-python",
   "name": "python",
   "nbconvert_exporter": "python",
   "pygments_lexer": "ipython3",
   "version": "3.8.8"
  },
  "orig_nbformat": 4,
  "vscode": {
   "interpreter": {
    "hash": "1b4a6d994f5db5f5e62f6a4be3559c35029ae72cb13c2bb74b80a136da1fc767"
   }
  }
 },
 "nbformat": 4,
 "nbformat_minor": 2
}
